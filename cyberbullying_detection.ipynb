{
  "cells": [
    {
      "cell_type": "markdown",
      "metadata": {
        "id": "MB57uAIWp8Lp"
      },
      "source": [
        "#**Automatic cyberbullying detection**\n",
        "##Imbalanced text classification: classifying harmful tweets in Polish"
      ]
    },
    {
      "cell_type": "markdown",
      "metadata": {
        "id": "xaMaW9Bqqggi"
      },
      "source": [
        "PolEval 2019 Task 6: **Automatic cyberbullying detection**\n",
        "http://2019.poleval.pl/index.php/tasks/task6\n",
        "\n",
        "With rapid grew in popularity of Social Networking Services, cyberbullying is becoming a problem affecting more and more people. Anonymity allows Internet users to post offensive and inappropriate comments while hiding behind a pseudonym.\n",
        "\n",
        "To deal with this problem on a large scale, automated methods are needed to detect texts containing cyberbullying. Much in the area of ​​this research has been done for popular languages ​​such as English.\n",
        "\n",
        "The aim of the task is to automatically classify tweets containing harmful content in Polish."
      ]
    },
    {
      "cell_type": "markdown",
      "metadata": {
        "id": "rVNYVcN-ucAn"
      },
      "source": [
        "##Necessary imports"
      ]
    },
    {
      "cell_type": "markdown",
      "source": [
        "###**worked with legacy API in torchtext**\n",
        "\n"
      ],
      "metadata": {
        "id": "wAM_nLKYJpV_"
      }
    },
    {
      "cell_type": "code",
      "execution_count": null,
      "metadata": {
        "id": "BUh2eXt-vIKK"
      },
      "outputs": [],
      "source": [
        "import pandas as pd\n",
        "import numpy as np\n",
        "from collections import Counter\n",
        "\n",
        "import matplotlib.pyplot as plt\n",
        "%matplotlib inline\n",
        "import seaborn as sns\n",
        "\n",
        "from torchtext.legacy import data, vocab\n",
        "\n",
        "import torch\n",
        "import torch.nn as nn\n",
        "\n",
        "from torch.nn.utils.rnn import pack_padded_sequence, pad_packed_sequence\n",
        "\n",
        "from torch import nn\n",
        "from torch.optim import SGD, Adam\n",
        "from torch.nn.functional import cross_entropy\n",
        "\n",
        "import gensim\n",
        "from gensim.models import Word2Vec, KeyedVectors, word2vec"
      ]
    },
    {
      "cell_type": "code",
      "execution_count": null,
      "metadata": {
        "id": "rm8tVtSRQWIV"
      },
      "outputs": [],
      "source": [
        "#function for ploting model training history\n",
        "def show_results(orientation='horizontal', accuracy_bottom=None, loss_top=None, **histories):\n",
        "    if orientation == 'horizontal':\n",
        "        f, ax = plt.subplots(1, 2, figsize=(16, 5))\n",
        "    else:\n",
        "        f, ax = plt.subplots(2, 1, figsize=(16, 16))\n",
        "    for i, (name, h) in enumerate(histories.items()):\n",
        "        if len(histories) == 1:\n",
        "            ax[0].set_title(\"Best test accuracy: {:.2f}% (train: {:.2f}%)\".format(\n",
        "                max(h['test_accuracy']) * 100,\n",
        "                max(h['train_accuracy']) * 100\n",
        "            ))\n",
        "        else:\n",
        "            ax[0].set_title(\"Accuracy\")\n",
        "        ax[0].plot(h['train_accuracy'], color='C%s' % i, linestyle='--', label='%s train' % name)\n",
        "        ax[0].plot(h['test_accuracy'], color='C%s' % i, label='%s test' % name)\n",
        "        ax[0].set_xlabel('epochs')\n",
        "        ax[0].set_ylabel('accuracy')\n",
        "        if accuracy_bottom:\n",
        "            ax[0].set_ylim(bottom=accuracy_bottom)\n",
        "        ax[0].legend()\n",
        "\n",
        "        if len(histories) == 1:\n",
        "            ax[1].set_title(\"Minimal train loss: {:.4f} (test: {:.4f})\".format(\n",
        "                min(h['train_loss']),\n",
        "                min(h['test_loss'])\n",
        "            ))\n",
        "        else:\n",
        "            ax[1].set_title(\"Loss\")\n",
        "        ax[1].plot(h['train_loss'], color='C%s' % i, linestyle='--', label='%s train' % name)\n",
        "        ax[1].plot(h['test_loss'], color='C%s' % i, label='%s test' % name)\n",
        "        ax[1].set_xlabel('epochs')\n",
        "        ax[1].set_ylabel('loss')\n",
        "        if loss_top:\n",
        "            ax[1].set_ylim(top=loss_top)\n",
        "        ax[1].legend()\n",
        "\n",
        "    plt.show()"
      ]
    },
    {
      "cell_type": "code",
      "execution_count": null,
      "metadata": {
        "id": "bCkAEwJS4FZI"
      },
      "outputs": [],
      "source": [
        "device = torch.device('cuda' if torch.cuda.is_available() else 'cpu')\n",
        "device"
      ]
    },
    {
      "cell_type": "markdown",
      "metadata": {
        "id": "8e-A-uMDzas9"
      },
      "source": [
        "##Data\n",
        "Training and test data consit of **tweets** and **tags** - \n",
        "\n",
        "\n",
        "\n",
        "normal/non-harmful tweets (**class: 0**) and tweets that contain any kind of harmful information (**class: 1**)"
      ]
    },
    {
      "cell_type": "code",
      "source": [
        "from google.colab import drive\n",
        "drive.mount('/content/drive')"
      ],
      "metadata": {
        "colab": {
          "base_uri": "https://localhost:8080/"
        },
        "id": "ZjV2oLCzH0Zv",
        "outputId": "0121e796-9a4d-4036-8593-981ea380a5ba"
      },
      "execution_count": null,
      "outputs": [
        {
          "output_type": "stream",
          "name": "stdout",
          "text": [
            "Mounted at /content/drive\n"
          ]
        }
      ]
    },
    {
      "cell_type": "markdown",
      "metadata": {
        "id": "PKPmsZNyKSNP"
      },
      "source": [
        "###TRAIN DATA"
      ]
    },
    {
      "cell_type": "code",
      "execution_count": null,
      "metadata": {
        "id": "cC3aCzIw32Vt"
      },
      "outputs": [],
      "source": [
        "# training data\n",
        "\n",
        "#/content/test_data.csv\n",
        "path = '/content/drive/MyDrive/Sulikowska_aann_project/'\n",
        "train_text = path + 'task_6-1/training_set_clean_only_text.txt'\n",
        "train_tags = path + 'task_6-1/training_set_clean_only_tags.txt'"
      ]
    },
    {
      "cell_type": "code",
      "execution_count": null,
      "metadata": {
        "colab": {
          "base_uri": "https://localhost:8080/",
          "height": 206
        },
        "id": "VZsxPXcoUvKX",
        "outputId": "798af397-2ea8-46fe-dad5-a193e4da4c1c"
      },
      "outputs": [
        {
          "output_type": "execute_result",
          "data": {
            "text/html": [
              "\n",
              "  <div id=\"df-0cbaf297-7cf4-4103-94fa-f92d5037dd35\">\n",
              "    <div class=\"colab-df-container\">\n",
              "      <div>\n",
              "<style scoped>\n",
              "    .dataframe tbody tr th:only-of-type {\n",
              "        vertical-align: middle;\n",
              "    }\n",
              "\n",
              "    .dataframe tbody tr th {\n",
              "        vertical-align: top;\n",
              "    }\n",
              "\n",
              "    .dataframe thead th {\n",
              "        text-align: right;\n",
              "    }\n",
              "</style>\n",
              "<table border=\"1\" class=\"dataframe\">\n",
              "  <thead>\n",
              "    <tr style=\"text-align: right;\">\n",
              "      <th></th>\n",
              "      <th>tag</th>\n",
              "      <th>tweet</th>\n",
              "    </tr>\n",
              "  </thead>\n",
              "  <tbody>\n",
              "    <tr>\n",
              "      <th>0</th>\n",
              "      <td>0</td>\n",
              "      <td>Dla mnie faworytem do tytułu będzie Cracovia. ...</td>\n",
              "    </tr>\n",
              "    <tr>\n",
              "      <th>1</th>\n",
              "      <td>0</td>\n",
              "      <td>@anonymized_account @anonymized_account Brawo ...</td>\n",
              "    </tr>\n",
              "    <tr>\n",
              "      <th>2</th>\n",
              "      <td>0</td>\n",
              "      <td>@anonymized_account @anonymized_account Super,...</td>\n",
              "    </tr>\n",
              "    <tr>\n",
              "      <th>3</th>\n",
              "      <td>0</td>\n",
              "      <td>@anonymized_account @anonymized_account Musi. ...</td>\n",
              "    </tr>\n",
              "    <tr>\n",
              "      <th>4</th>\n",
              "      <td>0</td>\n",
              "      <td>Odrzut natychmiastowy, kwaśna mina, mam problem</td>\n",
              "    </tr>\n",
              "  </tbody>\n",
              "</table>\n",
              "</div>\n",
              "      <button class=\"colab-df-convert\" onclick=\"convertToInteractive('df-0cbaf297-7cf4-4103-94fa-f92d5037dd35')\"\n",
              "              title=\"Convert this dataframe to an interactive table.\"\n",
              "              style=\"display:none;\">\n",
              "        \n",
              "  <svg xmlns=\"http://www.w3.org/2000/svg\" height=\"24px\"viewBox=\"0 0 24 24\"\n",
              "       width=\"24px\">\n",
              "    <path d=\"M0 0h24v24H0V0z\" fill=\"none\"/>\n",
              "    <path d=\"M18.56 5.44l.94 2.06.94-2.06 2.06-.94-2.06-.94-.94-2.06-.94 2.06-2.06.94zm-11 1L8.5 8.5l.94-2.06 2.06-.94-2.06-.94L8.5 2.5l-.94 2.06-2.06.94zm10 10l.94 2.06.94-2.06 2.06-.94-2.06-.94-.94-2.06-.94 2.06-2.06.94z\"/><path d=\"M17.41 7.96l-1.37-1.37c-.4-.4-.92-.59-1.43-.59-.52 0-1.04.2-1.43.59L10.3 9.45l-7.72 7.72c-.78.78-.78 2.05 0 2.83L4 21.41c.39.39.9.59 1.41.59.51 0 1.02-.2 1.41-.59l7.78-7.78 2.81-2.81c.8-.78.8-2.07 0-2.86zM5.41 20L4 18.59l7.72-7.72 1.47 1.35L5.41 20z\"/>\n",
              "  </svg>\n",
              "      </button>\n",
              "      \n",
              "  <style>\n",
              "    .colab-df-container {\n",
              "      display:flex;\n",
              "      flex-wrap:wrap;\n",
              "      gap: 12px;\n",
              "    }\n",
              "\n",
              "    .colab-df-convert {\n",
              "      background-color: #E8F0FE;\n",
              "      border: none;\n",
              "      border-radius: 50%;\n",
              "      cursor: pointer;\n",
              "      display: none;\n",
              "      fill: #1967D2;\n",
              "      height: 32px;\n",
              "      padding: 0 0 0 0;\n",
              "      width: 32px;\n",
              "    }\n",
              "\n",
              "    .colab-df-convert:hover {\n",
              "      background-color: #E2EBFA;\n",
              "      box-shadow: 0px 1px 2px rgba(60, 64, 67, 0.3), 0px 1px 3px 1px rgba(60, 64, 67, 0.15);\n",
              "      fill: #174EA6;\n",
              "    }\n",
              "\n",
              "    [theme=dark] .colab-df-convert {\n",
              "      background-color: #3B4455;\n",
              "      fill: #D2E3FC;\n",
              "    }\n",
              "\n",
              "    [theme=dark] .colab-df-convert:hover {\n",
              "      background-color: #434B5C;\n",
              "      box-shadow: 0px 1px 3px 1px rgba(0, 0, 0, 0.15);\n",
              "      filter: drop-shadow(0px 1px 2px rgba(0, 0, 0, 0.3));\n",
              "      fill: #FFFFFF;\n",
              "    }\n",
              "  </style>\n",
              "\n",
              "      <script>\n",
              "        const buttonEl =\n",
              "          document.querySelector('#df-0cbaf297-7cf4-4103-94fa-f92d5037dd35 button.colab-df-convert');\n",
              "        buttonEl.style.display =\n",
              "          google.colab.kernel.accessAllowed ? 'block' : 'none';\n",
              "\n",
              "        async function convertToInteractive(key) {\n",
              "          const element = document.querySelector('#df-0cbaf297-7cf4-4103-94fa-f92d5037dd35');\n",
              "          const dataTable =\n",
              "            await google.colab.kernel.invokeFunction('convertToInteractive',\n",
              "                                                     [key], {});\n",
              "          if (!dataTable) return;\n",
              "\n",
              "          const docLinkHtml = 'Like what you see? Visit the ' +\n",
              "            '<a target=\"_blank\" href=https://colab.research.google.com/notebooks/data_table.ipynb>data table notebook</a>'\n",
              "            + ' to learn more about interactive tables.';\n",
              "          element.innerHTML = '';\n",
              "          dataTable['output_type'] = 'display_data';\n",
              "          await google.colab.output.renderOutput(dataTable, element);\n",
              "          const docLink = document.createElement('div');\n",
              "          docLink.innerHTML = docLinkHtml;\n",
              "          element.appendChild(docLink);\n",
              "        }\n",
              "      </script>\n",
              "    </div>\n",
              "  </div>\n",
              "  "
            ],
            "text/plain": [
              "   tag                                              tweet\n",
              "0    0  Dla mnie faworytem do tytułu będzie Cracovia. ...\n",
              "1    0  @anonymized_account @anonymized_account Brawo ...\n",
              "2    0  @anonymized_account @anonymized_account Super,...\n",
              "3    0  @anonymized_account @anonymized_account Musi. ...\n",
              "4    0    Odrzut natychmiastowy, kwaśna mina, mam problem"
            ]
          },
          "metadata": {},
          "execution_count": 7
        }
      ],
      "source": [
        "df_tags = pd.read_csv(train_tags, delimiter = \"\\t\", header=None, names=['tag'], encoding= 'utf8')\n",
        "df_tweets = pd.read_csv(train_text, delimiter = \"\\t\", header=None, names=['tweet'], encoding= 'utf8')\n",
        "df = pd.concat([df_tags, df_tweets], axis=1)\n",
        "df.head()"
      ]
    },
    {
      "cell_type": "markdown",
      "metadata": {
        "id": "UkhsYGJxKV-3"
      },
      "source": [
        "###TEST DATA"
      ]
    },
    {
      "cell_type": "code",
      "execution_count": null,
      "metadata": {
        "id": "6eve8TRJ5ehF"
      },
      "outputs": [],
      "source": [
        "# test data\n",
        "test_text = path + 'task 01/test_set_clean_only_text.txt'\n",
        "test_tags = path + 'task 01/test_set_clean_only_tags.txt'"
      ]
    },
    {
      "cell_type": "code",
      "execution_count": null,
      "metadata": {
        "colab": {
          "base_uri": "https://localhost:8080/",
          "height": 206
        },
        "id": "uSMyUdZHuMn3",
        "outputId": "bfaa4263-bb11-4175-af89-b40d81b873ca"
      },
      "outputs": [
        {
          "output_type": "execute_result",
          "data": {
            "text/html": [
              "\n",
              "  <div id=\"df-d4fe868a-d589-4030-a00c-d91d8055d6cf\">\n",
              "    <div class=\"colab-df-container\">\n",
              "      <div>\n",
              "<style scoped>\n",
              "    .dataframe tbody tr th:only-of-type {\n",
              "        vertical-align: middle;\n",
              "    }\n",
              "\n",
              "    .dataframe tbody tr th {\n",
              "        vertical-align: top;\n",
              "    }\n",
              "\n",
              "    .dataframe thead th {\n",
              "        text-align: right;\n",
              "    }\n",
              "</style>\n",
              "<table border=\"1\" class=\"dataframe\">\n",
              "  <thead>\n",
              "    <tr style=\"text-align: right;\">\n",
              "      <th></th>\n",
              "      <th>tag</th>\n",
              "      <th>tweet</th>\n",
              "    </tr>\n",
              "  </thead>\n",
              "  <tbody>\n",
              "    <tr>\n",
              "      <th>0</th>\n",
              "      <td>0</td>\n",
              "      <td>@anonymized_account Spoko, jak im Duda z Moraw...</td>\n",
              "    </tr>\n",
              "    <tr>\n",
              "      <th>1</th>\n",
              "      <td>0</td>\n",
              "      <td>@anonymized_account @anonymized_account Ale on...</td>\n",
              "    </tr>\n",
              "    <tr>\n",
              "      <th>2</th>\n",
              "      <td>0</td>\n",
              "      <td>@anonymized_account No czy Prezes nie miał rac...</td>\n",
              "    </tr>\n",
              "    <tr>\n",
              "      <th>3</th>\n",
              "      <td>0</td>\n",
              "      <td>@anonymized_account @anonymized_account Przeci...</td>\n",
              "    </tr>\n",
              "    <tr>\n",
              "      <th>4</th>\n",
              "      <td>0</td>\n",
              "      <td>@anonymized_account @anonymized_account Owszem...</td>\n",
              "    </tr>\n",
              "  </tbody>\n",
              "</table>\n",
              "</div>\n",
              "      <button class=\"colab-df-convert\" onclick=\"convertToInteractive('df-d4fe868a-d589-4030-a00c-d91d8055d6cf')\"\n",
              "              title=\"Convert this dataframe to an interactive table.\"\n",
              "              style=\"display:none;\">\n",
              "        \n",
              "  <svg xmlns=\"http://www.w3.org/2000/svg\" height=\"24px\"viewBox=\"0 0 24 24\"\n",
              "       width=\"24px\">\n",
              "    <path d=\"M0 0h24v24H0V0z\" fill=\"none\"/>\n",
              "    <path d=\"M18.56 5.44l.94 2.06.94-2.06 2.06-.94-2.06-.94-.94-2.06-.94 2.06-2.06.94zm-11 1L8.5 8.5l.94-2.06 2.06-.94-2.06-.94L8.5 2.5l-.94 2.06-2.06.94zm10 10l.94 2.06.94-2.06 2.06-.94-2.06-.94-.94-2.06-.94 2.06-2.06.94z\"/><path d=\"M17.41 7.96l-1.37-1.37c-.4-.4-.92-.59-1.43-.59-.52 0-1.04.2-1.43.59L10.3 9.45l-7.72 7.72c-.78.78-.78 2.05 0 2.83L4 21.41c.39.39.9.59 1.41.59.51 0 1.02-.2 1.41-.59l7.78-7.78 2.81-2.81c.8-.78.8-2.07 0-2.86zM5.41 20L4 18.59l7.72-7.72 1.47 1.35L5.41 20z\"/>\n",
              "  </svg>\n",
              "      </button>\n",
              "      \n",
              "  <style>\n",
              "    .colab-df-container {\n",
              "      display:flex;\n",
              "      flex-wrap:wrap;\n",
              "      gap: 12px;\n",
              "    }\n",
              "\n",
              "    .colab-df-convert {\n",
              "      background-color: #E8F0FE;\n",
              "      border: none;\n",
              "      border-radius: 50%;\n",
              "      cursor: pointer;\n",
              "      display: none;\n",
              "      fill: #1967D2;\n",
              "      height: 32px;\n",
              "      padding: 0 0 0 0;\n",
              "      width: 32px;\n",
              "    }\n",
              "\n",
              "    .colab-df-convert:hover {\n",
              "      background-color: #E2EBFA;\n",
              "      box-shadow: 0px 1px 2px rgba(60, 64, 67, 0.3), 0px 1px 3px 1px rgba(60, 64, 67, 0.15);\n",
              "      fill: #174EA6;\n",
              "    }\n",
              "\n",
              "    [theme=dark] .colab-df-convert {\n",
              "      background-color: #3B4455;\n",
              "      fill: #D2E3FC;\n",
              "    }\n",
              "\n",
              "    [theme=dark] .colab-df-convert:hover {\n",
              "      background-color: #434B5C;\n",
              "      box-shadow: 0px 1px 3px 1px rgba(0, 0, 0, 0.15);\n",
              "      filter: drop-shadow(0px 1px 2px rgba(0, 0, 0, 0.3));\n",
              "      fill: #FFFFFF;\n",
              "    }\n",
              "  </style>\n",
              "\n",
              "      <script>\n",
              "        const buttonEl =\n",
              "          document.querySelector('#df-d4fe868a-d589-4030-a00c-d91d8055d6cf button.colab-df-convert');\n",
              "        buttonEl.style.display =\n",
              "          google.colab.kernel.accessAllowed ? 'block' : 'none';\n",
              "\n",
              "        async function convertToInteractive(key) {\n",
              "          const element = document.querySelector('#df-d4fe868a-d589-4030-a00c-d91d8055d6cf');\n",
              "          const dataTable =\n",
              "            await google.colab.kernel.invokeFunction('convertToInteractive',\n",
              "                                                     [key], {});\n",
              "          if (!dataTable) return;\n",
              "\n",
              "          const docLinkHtml = 'Like what you see? Visit the ' +\n",
              "            '<a target=\"_blank\" href=https://colab.research.google.com/notebooks/data_table.ipynb>data table notebook</a>'\n",
              "            + ' to learn more about interactive tables.';\n",
              "          element.innerHTML = '';\n",
              "          dataTable['output_type'] = 'display_data';\n",
              "          await google.colab.output.renderOutput(dataTable, element);\n",
              "          const docLink = document.createElement('div');\n",
              "          docLink.innerHTML = docLinkHtml;\n",
              "          element.appendChild(docLink);\n",
              "        }\n",
              "      </script>\n",
              "    </div>\n",
              "  </div>\n",
              "  "
            ],
            "text/plain": [
              "   tag                                              tweet\n",
              "0    0  @anonymized_account Spoko, jak im Duda z Moraw...\n",
              "1    0  @anonymized_account @anonymized_account Ale on...\n",
              "2    0  @anonymized_account No czy Prezes nie miał rac...\n",
              "3    0  @anonymized_account @anonymized_account Przeci...\n",
              "4    0  @anonymized_account @anonymized_account Owszem..."
            ]
          },
          "metadata": {},
          "execution_count": 9
        }
      ],
      "source": [
        "df_tags_ = pd.read_csv(test_tags, delimiter = \"\\t\", header=None, names=['tag'], encoding= 'utf8')\n",
        "df_tweets_ = pd.read_csv(test_text, delimiter = \"\\t\", header=None, names=['tweet'], encoding= 'utf8')\n",
        "df_ = pd.concat([df_tags_, df_tweets_], axis=1)\n",
        "df_.head()"
      ]
    },
    {
      "cell_type": "markdown",
      "metadata": {
        "id": "Qe52RrpIdII1"
      },
      "source": [
        "##Data exploration"
      ]
    },
    {
      "cell_type": "markdown",
      "metadata": {
        "id": "QJw5La60TR8s"
      },
      "source": [
        "Most common words in harmful and non-harmful tweets."
      ]
    },
    {
      "cell_type": "code",
      "execution_count": null,
      "metadata": {
        "id": "Cy3WrDt7Vke7"
      },
      "outputs": [],
      "source": [
        "df_0 = df[df['tag']==0]\n",
        "df_1 = df[df['tag']==1]"
      ]
    },
    {
      "cell_type": "markdown",
      "metadata": {
        "id": "ZaBQX3P5Vmrs"
      },
      "source": [
        "**Non-harmful tweets**"
      ]
    },
    {
      "cell_type": "code",
      "execution_count": null,
      "metadata": {
        "colab": {
          "base_uri": "https://localhost:8080/",
          "height": 677
        },
        "id": "ZFq5r8_eTlQI",
        "outputId": "9d4a2ddb-e0d3-42b8-d315-957425337da7"
      },
      "outputs": [
        {
          "output_type": "execute_result",
          "data": {
            "text/html": [
              "\n",
              "  <div id=\"df-6bdfabc0-6a40-4fd1-83eb-804c2c9e086d\">\n",
              "    <div class=\"colab-df-container\">\n",
              "      <div>\n",
              "<style scoped>\n",
              "    .dataframe tbody tr th:only-of-type {\n",
              "        vertical-align: middle;\n",
              "    }\n",
              "\n",
              "    .dataframe tbody tr th {\n",
              "        vertical-align: top;\n",
              "    }\n",
              "\n",
              "    .dataframe thead th {\n",
              "        text-align: right;\n",
              "    }\n",
              "</style>\n",
              "<table border=\"1\" class=\"dataframe\">\n",
              "  <thead>\n",
              "    <tr style=\"text-align: right;\">\n",
              "      <th></th>\n",
              "      <th>Common_words</th>\n",
              "      <th>Count</th>\n",
              "    </tr>\n",
              "  </thead>\n",
              "  <tbody>\n",
              "    <tr>\n",
              "      <th>0</th>\n",
              "      <td>@anonymized_account</td>\n",
              "      <td>12319</td>\n",
              "    </tr>\n",
              "    <tr>\n",
              "      <th>1</th>\n",
              "      <td>nie</td>\n",
              "      <td>2354</td>\n",
              "    </tr>\n",
              "    <tr>\n",
              "      <th>2</th>\n",
              "      <td>to</td>\n",
              "      <td>2339</td>\n",
              "    </tr>\n",
              "    <tr>\n",
              "      <th>3</th>\n",
              "      <td>w</td>\n",
              "      <td>2066</td>\n",
              "    </tr>\n",
              "    <tr>\n",
              "      <th>4</th>\n",
              "      <td>na</td>\n",
              "      <td>1774</td>\n",
              "    </tr>\n",
              "    <tr>\n",
              "      <th>5</th>\n",
              "      <td>i</td>\n",
              "      <td>1639</td>\n",
              "    </tr>\n",
              "    <tr>\n",
              "      <th>6</th>\n",
              "      <td>się</td>\n",
              "      <td>1573</td>\n",
              "    </tr>\n",
              "    <tr>\n",
              "      <th>7</th>\n",
              "      <td>z</td>\n",
              "      <td>1470</td>\n",
              "    </tr>\n",
              "    <tr>\n",
              "      <th>8</th>\n",
              "      <td>że</td>\n",
              "      <td>1193</td>\n",
              "    </tr>\n",
              "    <tr>\n",
              "      <th>9</th>\n",
              "      <td>do</td>\n",
              "      <td>841</td>\n",
              "    </tr>\n",
              "    <tr>\n",
              "      <th>10</th>\n",
              "      <td>jest</td>\n",
              "      <td>797</td>\n",
              "    </tr>\n",
              "    <tr>\n",
              "      <th>11</th>\n",
              "      <td>jak</td>\n",
              "      <td>792</td>\n",
              "    </tr>\n",
              "    <tr>\n",
              "      <th>12</th>\n",
              "      <td>a</td>\n",
              "      <td>688</td>\n",
              "    </tr>\n",
              "    <tr>\n",
              "      <th>13</th>\n",
              "      <td>co</td>\n",
              "      <td>650</td>\n",
              "    </tr>\n",
              "    <tr>\n",
              "      <th>14</th>\n",
              "      <td>:)</td>\n",
              "      <td>622</td>\n",
              "    </tr>\n",
              "    <tr>\n",
              "      <th>15</th>\n",
              "      <td>o</td>\n",
              "      <td>611</td>\n",
              "    </tr>\n",
              "    <tr>\n",
              "      <th>16</th>\n",
              "      <td>ale</td>\n",
              "      <td>607</td>\n",
              "    </tr>\n",
              "    <tr>\n",
              "      <th>17</th>\n",
              "      <td>?</td>\n",
              "      <td>584</td>\n",
              "    </tr>\n",
              "    <tr>\n",
              "      <th>18</th>\n",
              "      <td>RT</td>\n",
              "      <td>570</td>\n",
              "    </tr>\n",
              "    <tr>\n",
              "      <th>19</th>\n",
              "      <td>za</td>\n",
              "      <td>545</td>\n",
              "    </tr>\n",
              "  </tbody>\n",
              "</table>\n",
              "</div>\n",
              "      <button class=\"colab-df-convert\" onclick=\"convertToInteractive('df-6bdfabc0-6a40-4fd1-83eb-804c2c9e086d')\"\n",
              "              title=\"Convert this dataframe to an interactive table.\"\n",
              "              style=\"display:none;\">\n",
              "        \n",
              "  <svg xmlns=\"http://www.w3.org/2000/svg\" height=\"24px\"viewBox=\"0 0 24 24\"\n",
              "       width=\"24px\">\n",
              "    <path d=\"M0 0h24v24H0V0z\" fill=\"none\"/>\n",
              "    <path d=\"M18.56 5.44l.94 2.06.94-2.06 2.06-.94-2.06-.94-.94-2.06-.94 2.06-2.06.94zm-11 1L8.5 8.5l.94-2.06 2.06-.94-2.06-.94L8.5 2.5l-.94 2.06-2.06.94zm10 10l.94 2.06.94-2.06 2.06-.94-2.06-.94-.94-2.06-.94 2.06-2.06.94z\"/><path d=\"M17.41 7.96l-1.37-1.37c-.4-.4-.92-.59-1.43-.59-.52 0-1.04.2-1.43.59L10.3 9.45l-7.72 7.72c-.78.78-.78 2.05 0 2.83L4 21.41c.39.39.9.59 1.41.59.51 0 1.02-.2 1.41-.59l7.78-7.78 2.81-2.81c.8-.78.8-2.07 0-2.86zM5.41 20L4 18.59l7.72-7.72 1.47 1.35L5.41 20z\"/>\n",
              "  </svg>\n",
              "      </button>\n",
              "      \n",
              "  <style>\n",
              "    .colab-df-container {\n",
              "      display:flex;\n",
              "      flex-wrap:wrap;\n",
              "      gap: 12px;\n",
              "    }\n",
              "\n",
              "    .colab-df-convert {\n",
              "      background-color: #E8F0FE;\n",
              "      border: none;\n",
              "      border-radius: 50%;\n",
              "      cursor: pointer;\n",
              "      display: none;\n",
              "      fill: #1967D2;\n",
              "      height: 32px;\n",
              "      padding: 0 0 0 0;\n",
              "      width: 32px;\n",
              "    }\n",
              "\n",
              "    .colab-df-convert:hover {\n",
              "      background-color: #E2EBFA;\n",
              "      box-shadow: 0px 1px 2px rgba(60, 64, 67, 0.3), 0px 1px 3px 1px rgba(60, 64, 67, 0.15);\n",
              "      fill: #174EA6;\n",
              "    }\n",
              "\n",
              "    [theme=dark] .colab-df-convert {\n",
              "      background-color: #3B4455;\n",
              "      fill: #D2E3FC;\n",
              "    }\n",
              "\n",
              "    [theme=dark] .colab-df-convert:hover {\n",
              "      background-color: #434B5C;\n",
              "      box-shadow: 0px 1px 3px 1px rgba(0, 0, 0, 0.15);\n",
              "      filter: drop-shadow(0px 1px 2px rgba(0, 0, 0, 0.3));\n",
              "      fill: #FFFFFF;\n",
              "    }\n",
              "  </style>\n",
              "\n",
              "      <script>\n",
              "        const buttonEl =\n",
              "          document.querySelector('#df-6bdfabc0-6a40-4fd1-83eb-804c2c9e086d button.colab-df-convert');\n",
              "        buttonEl.style.display =\n",
              "          google.colab.kernel.accessAllowed ? 'block' : 'none';\n",
              "\n",
              "        async function convertToInteractive(key) {\n",
              "          const element = document.querySelector('#df-6bdfabc0-6a40-4fd1-83eb-804c2c9e086d');\n",
              "          const dataTable =\n",
              "            await google.colab.kernel.invokeFunction('convertToInteractive',\n",
              "                                                     [key], {});\n",
              "          if (!dataTable) return;\n",
              "\n",
              "          const docLinkHtml = 'Like what you see? Visit the ' +\n",
              "            '<a target=\"_blank\" href=https://colab.research.google.com/notebooks/data_table.ipynb>data table notebook</a>'\n",
              "            + ' to learn more about interactive tables.';\n",
              "          element.innerHTML = '';\n",
              "          dataTable['output_type'] = 'display_data';\n",
              "          await google.colab.output.renderOutput(dataTable, element);\n",
              "          const docLink = document.createElement('div');\n",
              "          docLink.innerHTML = docLinkHtml;\n",
              "          element.appendChild(docLink);\n",
              "        }\n",
              "      </script>\n",
              "    </div>\n",
              "  </div>\n",
              "  "
            ],
            "text/plain": [
              "           Common_words  Count\n",
              "0   @anonymized_account  12319\n",
              "1                   nie   2354\n",
              "2                    to   2339\n",
              "3                     w   2066\n",
              "4                    na   1774\n",
              "5                     i   1639\n",
              "6                   się   1573\n",
              "7                     z   1470\n",
              "8                    że   1193\n",
              "9                    do    841\n",
              "10                 jest    797\n",
              "11                  jak    792\n",
              "12                    a    688\n",
              "13                   co    650\n",
              "14                   :)    622\n",
              "15                    o    611\n",
              "16                  ale    607\n",
              "17                    ?    584\n",
              "18                   RT    570\n",
              "19                   za    545"
            ]
          },
          "metadata": {},
          "execution_count": 11
        }
      ],
      "source": [
        "top = pd.DataFrame(Counter(\" \".join(df_0[\"tweet\"]).split()).most_common(20))\n",
        "top.columns = ['Common_words', 'Count']\n",
        "top"
      ]
    },
    {
      "cell_type": "markdown",
      "metadata": {
        "id": "XEyA9wW1Vt-q"
      },
      "source": [
        "**Harmful tweets**"
      ]
    },
    {
      "cell_type": "code",
      "execution_count": null,
      "metadata": {
        "colab": {
          "base_uri": "https://localhost:8080/",
          "height": 677
        },
        "id": "EiwRa0YvVs5u",
        "outputId": "3d6fb2c7-1695-4b1b-c01f-664fbe991c88"
      },
      "outputs": [
        {
          "output_type": "execute_result",
          "data": {
            "text/html": [
              "\n",
              "  <div id=\"df-52a67ac2-7c70-4cba-926b-b1d35e0349ff\">\n",
              "    <div class=\"colab-df-container\">\n",
              "      <div>\n",
              "<style scoped>\n",
              "    .dataframe tbody tr th:only-of-type {\n",
              "        vertical-align: middle;\n",
              "    }\n",
              "\n",
              "    .dataframe tbody tr th {\n",
              "        vertical-align: top;\n",
              "    }\n",
              "\n",
              "    .dataframe thead th {\n",
              "        text-align: right;\n",
              "    }\n",
              "</style>\n",
              "<table border=\"1\" class=\"dataframe\">\n",
              "  <thead>\n",
              "    <tr style=\"text-align: right;\">\n",
              "      <th></th>\n",
              "      <th>Common_words</th>\n",
              "      <th>Count</th>\n",
              "    </tr>\n",
              "  </thead>\n",
              "  <tbody>\n",
              "    <tr>\n",
              "      <th>0</th>\n",
              "      <td>@anonymized_account</td>\n",
              "      <td>1413</td>\n",
              "    </tr>\n",
              "    <tr>\n",
              "      <th>1</th>\n",
              "      <td>nie</td>\n",
              "      <td>224</td>\n",
              "    </tr>\n",
              "    <tr>\n",
              "      <th>2</th>\n",
              "      <td>to</td>\n",
              "      <td>200</td>\n",
              "    </tr>\n",
              "    <tr>\n",
              "      <th>3</th>\n",
              "      <td>w</td>\n",
              "      <td>193</td>\n",
              "    </tr>\n",
              "    <tr>\n",
              "      <th>4</th>\n",
              "      <td>i</td>\n",
              "      <td>176</td>\n",
              "    </tr>\n",
              "    <tr>\n",
              "      <th>5</th>\n",
              "      <td>z</td>\n",
              "      <td>154</td>\n",
              "    </tr>\n",
              "    <tr>\n",
              "      <th>6</th>\n",
              "      <td>na</td>\n",
              "      <td>139</td>\n",
              "    </tr>\n",
              "    <tr>\n",
              "      <th>7</th>\n",
              "      <td>się</td>\n",
              "      <td>126</td>\n",
              "    </tr>\n",
              "    <tr>\n",
              "      <th>8</th>\n",
              "      <td>jak</td>\n",
              "      <td>99</td>\n",
              "    </tr>\n",
              "    <tr>\n",
              "      <th>9</th>\n",
              "      <td>RT</td>\n",
              "      <td>95</td>\n",
              "    </tr>\n",
              "    <tr>\n",
              "      <th>10</th>\n",
              "      <td>że</td>\n",
              "      <td>89</td>\n",
              "    </tr>\n",
              "    <tr>\n",
              "      <th>11</th>\n",
              "      <td>A</td>\n",
              "      <td>74</td>\n",
              "    </tr>\n",
              "    <tr>\n",
              "      <th>12</th>\n",
              "      <td>jest</td>\n",
              "      <td>73</td>\n",
              "    </tr>\n",
              "    <tr>\n",
              "      <th>13</th>\n",
              "      <td>do</td>\n",
              "      <td>67</td>\n",
              "    </tr>\n",
              "    <tr>\n",
              "      <th>14</th>\n",
              "      <td>a</td>\n",
              "      <td>61</td>\n",
              "    </tr>\n",
              "    <tr>\n",
              "      <th>15</th>\n",
              "      <td>za</td>\n",
              "      <td>55</td>\n",
              "    </tr>\n",
              "    <tr>\n",
              "      <th>16</th>\n",
              "      <td>co</td>\n",
              "      <td>54</td>\n",
              "    </tr>\n",
              "    <tr>\n",
              "      <th>17</th>\n",
              "      <td>ty</td>\n",
              "      <td>54</td>\n",
              "    </tr>\n",
              "    <tr>\n",
              "      <th>18</th>\n",
              "      <td>o</td>\n",
              "      <td>48</td>\n",
              "    </tr>\n",
              "    <tr>\n",
              "      <th>19</th>\n",
              "      <td>po</td>\n",
              "      <td>46</td>\n",
              "    </tr>\n",
              "  </tbody>\n",
              "</table>\n",
              "</div>\n",
              "      <button class=\"colab-df-convert\" onclick=\"convertToInteractive('df-52a67ac2-7c70-4cba-926b-b1d35e0349ff')\"\n",
              "              title=\"Convert this dataframe to an interactive table.\"\n",
              "              style=\"display:none;\">\n",
              "        \n",
              "  <svg xmlns=\"http://www.w3.org/2000/svg\" height=\"24px\"viewBox=\"0 0 24 24\"\n",
              "       width=\"24px\">\n",
              "    <path d=\"M0 0h24v24H0V0z\" fill=\"none\"/>\n",
              "    <path d=\"M18.56 5.44l.94 2.06.94-2.06 2.06-.94-2.06-.94-.94-2.06-.94 2.06-2.06.94zm-11 1L8.5 8.5l.94-2.06 2.06-.94-2.06-.94L8.5 2.5l-.94 2.06-2.06.94zm10 10l.94 2.06.94-2.06 2.06-.94-2.06-.94-.94-2.06-.94 2.06-2.06.94z\"/><path d=\"M17.41 7.96l-1.37-1.37c-.4-.4-.92-.59-1.43-.59-.52 0-1.04.2-1.43.59L10.3 9.45l-7.72 7.72c-.78.78-.78 2.05 0 2.83L4 21.41c.39.39.9.59 1.41.59.51 0 1.02-.2 1.41-.59l7.78-7.78 2.81-2.81c.8-.78.8-2.07 0-2.86zM5.41 20L4 18.59l7.72-7.72 1.47 1.35L5.41 20z\"/>\n",
              "  </svg>\n",
              "      </button>\n",
              "      \n",
              "  <style>\n",
              "    .colab-df-container {\n",
              "      display:flex;\n",
              "      flex-wrap:wrap;\n",
              "      gap: 12px;\n",
              "    }\n",
              "\n",
              "    .colab-df-convert {\n",
              "      background-color: #E8F0FE;\n",
              "      border: none;\n",
              "      border-radius: 50%;\n",
              "      cursor: pointer;\n",
              "      display: none;\n",
              "      fill: #1967D2;\n",
              "      height: 32px;\n",
              "      padding: 0 0 0 0;\n",
              "      width: 32px;\n",
              "    }\n",
              "\n",
              "    .colab-df-convert:hover {\n",
              "      background-color: #E2EBFA;\n",
              "      box-shadow: 0px 1px 2px rgba(60, 64, 67, 0.3), 0px 1px 3px 1px rgba(60, 64, 67, 0.15);\n",
              "      fill: #174EA6;\n",
              "    }\n",
              "\n",
              "    [theme=dark] .colab-df-convert {\n",
              "      background-color: #3B4455;\n",
              "      fill: #D2E3FC;\n",
              "    }\n",
              "\n",
              "    [theme=dark] .colab-df-convert:hover {\n",
              "      background-color: #434B5C;\n",
              "      box-shadow: 0px 1px 3px 1px rgba(0, 0, 0, 0.15);\n",
              "      filter: drop-shadow(0px 1px 2px rgba(0, 0, 0, 0.3));\n",
              "      fill: #FFFFFF;\n",
              "    }\n",
              "  </style>\n",
              "\n",
              "      <script>\n",
              "        const buttonEl =\n",
              "          document.querySelector('#df-52a67ac2-7c70-4cba-926b-b1d35e0349ff button.colab-df-convert');\n",
              "        buttonEl.style.display =\n",
              "          google.colab.kernel.accessAllowed ? 'block' : 'none';\n",
              "\n",
              "        async function convertToInteractive(key) {\n",
              "          const element = document.querySelector('#df-52a67ac2-7c70-4cba-926b-b1d35e0349ff');\n",
              "          const dataTable =\n",
              "            await google.colab.kernel.invokeFunction('convertToInteractive',\n",
              "                                                     [key], {});\n",
              "          if (!dataTable) return;\n",
              "\n",
              "          const docLinkHtml = 'Like what you see? Visit the ' +\n",
              "            '<a target=\"_blank\" href=https://colab.research.google.com/notebooks/data_table.ipynb>data table notebook</a>'\n",
              "            + ' to learn more about interactive tables.';\n",
              "          element.innerHTML = '';\n",
              "          dataTable['output_type'] = 'display_data';\n",
              "          await google.colab.output.renderOutput(dataTable, element);\n",
              "          const docLink = document.createElement('div');\n",
              "          docLink.innerHTML = docLinkHtml;\n",
              "          element.appendChild(docLink);\n",
              "        }\n",
              "      </script>\n",
              "    </div>\n",
              "  </div>\n",
              "  "
            ],
            "text/plain": [
              "           Common_words  Count\n",
              "0   @anonymized_account   1413\n",
              "1                   nie    224\n",
              "2                    to    200\n",
              "3                     w    193\n",
              "4                     i    176\n",
              "5                     z    154\n",
              "6                    na    139\n",
              "7                   się    126\n",
              "8                   jak     99\n",
              "9                    RT     95\n",
              "10                   że     89\n",
              "11                    A     74\n",
              "12                 jest     73\n",
              "13                   do     67\n",
              "14                    a     61\n",
              "15                   za     55\n",
              "16                   co     54\n",
              "17                   ty     54\n",
              "18                    o     48\n",
              "19                   po     46"
            ]
          },
          "metadata": {},
          "execution_count": 12
        }
      ],
      "source": [
        "top = pd.DataFrame(Counter(\" \".join(df_1[\"tweet\"]).split()).most_common(20))\n",
        "top.columns = ['Common_words', 'Count']\n",
        "top"
      ]
    },
    {
      "cell_type": "markdown",
      "metadata": {
        "id": "4dfj9kZdRr6Z"
      },
      "source": [
        "The collection includes **9190** texts marked as neutral and **851** texts whose content contains cyberbullying."
      ]
    },
    {
      "cell_type": "code",
      "execution_count": null,
      "metadata": {
        "colab": {
          "base_uri": "https://localhost:8080/"
        },
        "id": "_IdDh9Rnc3Zs",
        "outputId": "8608e3eb-0628-49d8-e72c-574b009925ae"
      },
      "outputs": [
        {
          "output_type": "execute_result",
          "data": {
            "text/plain": [
              "0    9190\n",
              "1     851\n",
              "Name: tag, dtype: int64"
            ]
          },
          "metadata": {},
          "execution_count": 13
        }
      ],
      "source": [
        "x = df['tag'].value_counts()\n",
        "x"
      ]
    },
    {
      "cell_type": "code",
      "execution_count": null,
      "metadata": {
        "colab": {
          "base_uri": "https://localhost:8080/",
          "height": 340
        },
        "id": "rq3GfN2TZywZ",
        "outputId": "5f8c16d4-74d5-430f-8bac-61c14dd5ff06"
      },
      "outputs": [
        {
          "output_type": "stream",
          "name": "stderr",
          "text": [
            "/usr/local/lib/python3.7/dist-packages/seaborn/_decorators.py:43: FutureWarning: Pass the following variables as keyword args: x, y. From version 0.12, the only valid positional argument will be `data`, and passing other arguments without an explicit keyword will result in an error or misinterpretation.\n",
            "  FutureWarning\n"
          ]
        },
        {
          "output_type": "execute_result",
          "data": {
            "text/plain": [
              "<matplotlib.axes._subplots.AxesSubplot at 0x7f415b4784d0>"
            ]
          },
          "metadata": {},
          "execution_count": 14
        },
        {
          "output_type": "display_data",
          "data": {
            "image/png": "[encoded data removed]",
            "text/plain": [
              "<Figure size 432x288 with 1 Axes>"
            ]
          },
          "metadata": {
            "needs_background": "light"
          }
        }
      ],
      "source": [
        "num_zeros = x[0]\n",
        "num_ones = x[1]\n",
        "total = num_zeros + num_ones\n",
        "sns.barplot(x.index,x)"
      ]
    },
    {
      "cell_type": "code",
      "execution_count": null,
      "metadata": {
        "colab": {
          "base_uri": "https://localhost:8080/",
          "height": 112
        },
        "id": "XAhxe4pUSLCW",
        "outputId": "f2e7b4a2-6ed9-4865-d94e-04b2b1b69d10"
      },
      "outputs": [
        {
          "output_type": "execute_result",
          "data": {
            "text/html": [
              "\n",
              "  <div id=\"df-c66ed00a-a9e4-47c5-b796-32beeae14972\">\n",
              "    <div class=\"colab-df-container\">\n",
              "      <div>\n",
              "<style scoped>\n",
              "    .dataframe tbody tr th:only-of-type {\n",
              "        vertical-align: middle;\n",
              "    }\n",
              "\n",
              "    .dataframe tbody tr th {\n",
              "        vertical-align: top;\n",
              "    }\n",
              "\n",
              "    .dataframe thead th {\n",
              "        text-align: right;\n",
              "    }\n",
              "</style>\n",
              "<table border=\"1\" class=\"dataframe\">\n",
              "  <thead>\n",
              "    <tr style=\"text-align: right;\">\n",
              "      <th></th>\n",
              "      <th>tag</th>\n",
              "      <th>percentage</th>\n",
              "    </tr>\n",
              "  </thead>\n",
              "  <tbody>\n",
              "    <tr>\n",
              "      <th>0</th>\n",
              "      <td>0</td>\n",
              "      <td>0.915247</td>\n",
              "    </tr>\n",
              "    <tr>\n",
              "      <th>1</th>\n",
              "      <td>1</td>\n",
              "      <td>0.084753</td>\n",
              "    </tr>\n",
              "  </tbody>\n",
              "</table>\n",
              "</div>\n",
              "      <button class=\"colab-df-convert\" onclick=\"convertToInteractive('df-c66ed00a-a9e4-47c5-b796-32beeae14972')\"\n",
              "              title=\"Convert this dataframe to an interactive table.\"\n",
              "              style=\"display:none;\">\n",
              "        \n",
              "  <svg xmlns=\"http://www.w3.org/2000/svg\" height=\"24px\"viewBox=\"0 0 24 24\"\n",
              "       width=\"24px\">\n",
              "    <path d=\"M0 0h24v24H0V0z\" fill=\"none\"/>\n",
              "    <path d=\"M18.56 5.44l.94 2.06.94-2.06 2.06-.94-2.06-.94-.94-2.06-.94 2.06-2.06.94zm-11 1L8.5 8.5l.94-2.06 2.06-.94-2.06-.94L8.5 2.5l-.94 2.06-2.06.94zm10 10l.94 2.06.94-2.06 2.06-.94-2.06-.94-.94-2.06-.94 2.06-2.06.94z\"/><path d=\"M17.41 7.96l-1.37-1.37c-.4-.4-.92-.59-1.43-.59-.52 0-1.04.2-1.43.59L10.3 9.45l-7.72 7.72c-.78.78-.78 2.05 0 2.83L4 21.41c.39.39.9.59 1.41.59.51 0 1.02-.2 1.41-.59l7.78-7.78 2.81-2.81c.8-.78.8-2.07 0-2.86zM5.41 20L4 18.59l7.72-7.72 1.47 1.35L5.41 20z\"/>\n",
              "  </svg>\n",
              "      </button>\n",
              "      \n",
              "  <style>\n",
              "    .colab-df-container {\n",
              "      display:flex;\n",
              "      flex-wrap:wrap;\n",
              "      gap: 12px;\n",
              "    }\n",
              "\n",
              "    .colab-df-convert {\n",
              "      background-color: #E8F0FE;\n",
              "      border: none;\n",
              "      border-radius: 50%;\n",
              "      cursor: pointer;\n",
              "      display: none;\n",
              "      fill: #1967D2;\n",
              "      height: 32px;\n",
              "      padding: 0 0 0 0;\n",
              "      width: 32px;\n",
              "    }\n",
              "\n",
              "    .colab-df-convert:hover {\n",
              "      background-color: #E2EBFA;\n",
              "      box-shadow: 0px 1px 2px rgba(60, 64, 67, 0.3), 0px 1px 3px 1px rgba(60, 64, 67, 0.15);\n",
              "      fill: #174EA6;\n",
              "    }\n",
              "\n",
              "    [theme=dark] .colab-df-convert {\n",
              "      background-color: #3B4455;\n",
              "      fill: #D2E3FC;\n",
              "    }\n",
              "\n",
              "    [theme=dark] .colab-df-convert:hover {\n",
              "      background-color: #434B5C;\n",
              "      box-shadow: 0px 1px 3px 1px rgba(0, 0, 0, 0.15);\n",
              "      filter: drop-shadow(0px 1px 2px rgba(0, 0, 0, 0.3));\n",
              "      fill: #FFFFFF;\n",
              "    }\n",
              "  </style>\n",
              "\n",
              "      <script>\n",
              "        const buttonEl =\n",
              "          document.querySelector('#df-c66ed00a-a9e4-47c5-b796-32beeae14972 button.colab-df-convert');\n",
              "        buttonEl.style.display =\n",
              "          google.colab.kernel.accessAllowed ? 'block' : 'none';\n",
              "\n",
              "        async function convertToInteractive(key) {\n",
              "          const element = document.querySelector('#df-c66ed00a-a9e4-47c5-b796-32beeae14972');\n",
              "          const dataTable =\n",
              "            await google.colab.kernel.invokeFunction('convertToInteractive',\n",
              "                                                     [key], {});\n",
              "          if (!dataTable) return;\n",
              "\n",
              "          const docLinkHtml = 'Like what you see? Visit the ' +\n",
              "            '<a target=\"_blank\" href=https://colab.research.google.com/notebooks/data_table.ipynb>data table notebook</a>'\n",
              "            + ' to learn more about interactive tables.';\n",
              "          element.innerHTML = '';\n",
              "          dataTable['output_type'] = 'display_data';\n",
              "          await google.colab.output.renderOutput(dataTable, element);\n",
              "          const docLink = document.createElement('div');\n",
              "          docLink.innerHTML = docLinkHtml;\n",
              "          element.appendChild(docLink);\n",
              "        }\n",
              "      </script>\n",
              "    </div>\n",
              "  </div>\n",
              "  "
            ],
            "text/plain": [
              "   tag  percentage\n",
              "0    0    0.915247\n",
              "1    1    0.084753"
            ]
          },
          "metadata": {},
          "execution_count": 15
        }
      ],
      "source": [
        "df_per=df.groupby('tag')['tweet'].count().rename(\"percentage\").transform(lambda x: x/x.sum())\n",
        "\n",
        "df_per.reset_index()"
      ]
    },
    {
      "cell_type": "markdown",
      "metadata": {
        "id": "6uo-lqz4SDmq"
      },
      "source": [
        "It is highly imbalanced dataset. We have **92%** of non-cyberbullying tweets (class: 0) and **8%** of offensive tweets (class: 1)."
      ]
    },
    {
      "cell_type": "markdown",
      "metadata": {
        "id": "BevL4ldjUmZ8"
      },
      "source": [
        "#Data preprocessing"
      ]
    },
    {
      "cell_type": "markdown",
      "source": [
        "From texts of tweets I decided to remove **mentions**, **hashtags**, **URLs**,  **punctuation** and finally also **lowercase** all the letters. "
      ],
      "metadata": {
        "id": "RcQftIx_42Fp"
      }
    },
    {
      "cell_type": "code",
      "execution_count": null,
      "metadata": {
        "colab": {
          "base_uri": "https://localhost:8080/"
        },
        "id": "4v3hPks-RbEy",
        "outputId": "0dfe0305-4378-401b-c90b-e7eaae5abdf9"
      },
      "outputs": [
        {
          "output_type": "stream",
          "name": "stderr",
          "text": [
            "/usr/local/lib/python3.7/dist-packages/ipykernel_launcher.py:1: FutureWarning: The default value of regex will change from True to False in a future version.\n",
            "  \"\"\"Entry point for launching an IPython kernel.\n",
            "/usr/local/lib/python3.7/dist-packages/ipykernel_launcher.py:2: FutureWarning: The default value of regex will change from True to False in a future version.\n",
            "  \n",
            "/usr/local/lib/python3.7/dist-packages/ipykernel_launcher.py:3: FutureWarning: The default value of regex will change from True to False in a future version.\n",
            "  This is separate from the ipykernel package so we can avoid doing imports until\n",
            "/usr/local/lib/python3.7/dist-packages/ipykernel_launcher.py:4: FutureWarning: The default value of regex will change from True to False in a future version.\n",
            "  after removing the cwd from sys.path.\n",
            "/usr/local/lib/python3.7/dist-packages/ipykernel_launcher.py:5: FutureWarning: The default value of regex will change from True to False in a future version.\n",
            "  \"\"\"\n",
            "/usr/local/lib/python3.7/dist-packages/ipykernel_launcher.py:10: FutureWarning: The default value of regex will change from True to False in a future version.\n",
            "  # Remove the CWD from sys.path while we load stuff.\n",
            "/usr/local/lib/python3.7/dist-packages/ipykernel_launcher.py:11: FutureWarning: The default value of regex will change from True to False in a future version.\n",
            "  # This is added back by InteractiveShellApp.init_path()\n",
            "/usr/local/lib/python3.7/dist-packages/ipykernel_launcher.py:12: FutureWarning: The default value of regex will change from True to False in a future version.\n",
            "  if sys.path[0] == '':\n",
            "/usr/local/lib/python3.7/dist-packages/ipykernel_launcher.py:13: FutureWarning: The default value of regex will change from True to False in a future version.\n",
            "  del sys.path[0]\n",
            "/usr/local/lib/python3.7/dist-packages/ipykernel_launcher.py:14: FutureWarning: The default value of regex will change from True to False in a future version.\n",
            "  \n"
          ]
        }
      ],
      "source": [
        "df['tweet'] = df['tweet'].str.replace(r'@[\\w]*', '')\n",
        "df['tweet'] = df['tweet'].str.replace(r'@[A-Za-z0-9]+', '') #removing mentions\n",
        "df['tweet'] = df['tweet'].str.replace(r'#[A-Za-z0-9]+', '') #removing hashtags\n",
        "df['tweet'] = df['tweet'].str.replace(r'\\w+:\\/\\/\\S+', '') #removing URLs\n",
        "df['tweet'] = df['tweet'].str.replace(r'[\\.\\,\\!\\?\\:\\;\\-\\=\\_]', '') #removing punctuation\n",
        "df['tweet'] = df['tweet'].str.lower() #lower case\n",
        "df.replace(r'^\\s*$', np.nan, regex=True, inplace = True)\n",
        "df = df[df['tweet'].notna()]\n",
        "\n",
        "df_['tweet'] = df_['tweet'].str.replace(r'@[\\w]*', '')\n",
        "df_['tweet'] = df_['tweet'].str.replace(r'@[A-Za-z0-9]+', '') #removing mentions\n",
        "df_['tweet'] = df_['tweet'].str.replace(r'#[A-Za-z0-9]+', '') #removing hashtags\n",
        "df_['tweet'] = df_['tweet'].str.replace(r'\\w+:\\/\\/\\S+', '') #removing URLs\n",
        "df_['tweet'] = df_['tweet'].str.replace(r'[\\.\\,\\!\\?\\:\\;\\-\\=\\_]', '') #removing punctuation\n",
        "df_['tweet'] = df_['tweet'].str.lower() #lower case\n",
        "df_.replace(r'^\\s*$', np.nan, regex=True, inplace = True)\n",
        "df_ = df_[df_['tweet'].notna()]"
      ]
    },
    {
      "cell_type": "code",
      "execution_count": null,
      "metadata": {
        "id": "AbRvsTcFTsLP"
      },
      "outputs": [],
      "source": [
        "#writing cleaned data to csv files\n",
        "df.to_csv('train_data.csv') \n",
        "df_.to_csv('test_data.csv') "
      ]
    },
    {
      "cell_type": "markdown",
      "metadata": {
        "id": "_3XJig7pTyXI"
      },
      "source": [
        "Polish word embeddings trained on **Wikipedia** and **NKJP**\n",
        "http://dsmodels.nlp.ipipan.waw.pl/\n",
        "\n",
        "Now we have word meanings represented by 100 dimensional vectors."
      ]
    },
    {
      "cell_type": "markdown",
      "source": [
        "###Pretrained embeddings"
      ],
      "metadata": {
        "id": "MaVyPf0XAEVh"
      }
    },
    {
      "cell_type": "code",
      "execution_count": null,
      "metadata": {
        "id": "KGZHVnEYTH63"
      },
      "outputs": [],
      "source": [
        "#embeddings\n",
        "nkjp = path + 'nkjp+wiki-forms-all-100-cbow-hs.txt.gz'"
      ]
    },
    {
      "cell_type": "markdown",
      "source": [
        "###Tokenization of texts"
      ],
      "metadata": {
        "id": "XRwSqJGDAg-U"
      }
    },
    {
      "cell_type": "code",
      "execution_count": null,
      "metadata": {
        "colab": {
          "base_uri": "https://localhost:8080/"
        },
        "id": "lwstMWvuym57",
        "outputId": "c1f660e3-1d14-49df-fbaf-5a5d789d5386"
      },
      "outputs": [
        {
          "output_type": "stream",
          "name": "stdout",
          "text": [
            "{'tag': '0', 'tweet': ['jaki', 'on', 'był', 'fajny', 'xdd', 'pamiętam', 'że', 'spóźniłam', 'się', 'na', 'jego', 'pierwsze', 'zajęcia', 'i', 'to', 'sporo', 'i', 'za', 'karę', 'kazał', 'mi', 'usiąść', 'w', 'pierwszej', 'ławce', 'xd']}\n"
          ]
        }
      ],
      "source": [
        "TEXT = data.Field(tokenize='spacy', batch_first=True, include_lengths=True)\n",
        "LABEL = data.LabelField( batch_first=True)\n",
        "\n",
        "fields = {'tag': ('tag', LABEL), 'tweet': ('tweet', TEXT)}\n",
        "\n",
        "train_data = data.TabularDataset(\n",
        "                            path = '/content/train_data.csv',\n",
        "                            format = 'csv', \n",
        "                            fields = fields\n",
        ")\n",
        "test_data = data.TabularDataset(\n",
        "                            path = '/content/test_data.csv',\n",
        "                            format = 'csv', \n",
        "                            fields = fields\n",
        ")\n",
        "print(vars(train_data[5]))"
      ]
    },
    {
      "cell_type": "markdown",
      "source": [
        "###Building vocabulary based on pretrained embeddings."
      ],
      "metadata": {
        "id": "3al_InqdA7yE"
      }
    },
    {
      "cell_type": "code",
      "execution_count": null,
      "metadata": {
        "colab": {
          "base_uri": "https://localhost:8080/"
        },
        "id": "Jmz3bIi0XxrV",
        "outputId": "465da650-6f72-4cda-8437-6274faaeb3fc"
      },
      "outputs": [
        {
          "output_type": "stream",
          "name": "stderr",
          "text": [
            "  0%|          | 0/2123132 [00:00<?, ?it/s]Skipping token b'2123132' with 1-dimensional vector [b'100']; likely a header\n",
            "100%|██████████| 2123132/2123132 [01:42<00:00, 20690.59it/s]\n"
          ]
        },
        {
          "output_type": "stream",
          "name": "stdout",
          "text": [
            "Size of TEXT vocabulary: 4989\n",
            "Size of LABEL vocabulary: 2\n",
            "[(' ', 6451), ('nie', 3093), ('to', 2964), ('w', 2513), ('  ', 2248), ('i', 2134), ('na', 2078), ('się', 1790), ('z', 1762), ('a', 1346)]\n"
          ]
        }
      ],
      "source": [
        "Vectors = vocab.Vectors (name = nkjp) \n",
        "\n",
        "TEXT.build_vocab(train_data, min_freq=3, vectors = Vectors)  \n",
        "LABEL.build_vocab(train_data)\n",
        "\n",
        "\n",
        "#unique tokens in text\n",
        "print(\"Size of TEXT vocabulary:\", len(TEXT.vocab))\n",
        "\n",
        "#unique tokens in label\n",
        "print(\"Size of LABEL vocabulary:\", len(LABEL.vocab))\n",
        "\n",
        "#most common words\n",
        "print(TEXT.vocab.freqs.most_common(10))  "
      ]
    },
    {
      "cell_type": "markdown",
      "source": [
        "###Preparing batches for training the model."
      ],
      "metadata": {
        "id": "vULLsZ7UB14k"
      }
    },
    {
      "cell_type": "code",
      "execution_count": null,
      "metadata": {
        "id": "hPgzVX8n6AeV"
      },
      "outputs": [],
      "source": [
        "batch_size = 32\n",
        "train_iter = data.BucketIterator(train_data, sort_key = lambda x: len(x.tweet), sort_within_batch=True, batch_size = batch_size, device = device)\n",
        "test_iter = data.BucketIterator(test_data, sort_key = lambda x: len(x.tweet), sort_within_batch=True, batch_size = batch_size, device = device)"
      ]
    },
    {
      "cell_type": "markdown",
      "source": [
        "###Model architecture"
      ],
      "metadata": {
        "id": "m_BOinnbCG7n"
      }
    },
    {
      "cell_type": "markdown",
      "source": [
        "**Embedding layer**: each row (number of rows - **number of unique words** in a vocabulary) represents an embedding of a word (**100 dimensions** for representing each word)\n",
        "\n",
        "**LSTM layer**: capable of capturing long term dependencies\n",
        "\n",
        "**Linear layer**\n",
        "\n",
        "**Sigmoid** activation function"
      ],
      "metadata": {
        "id": "w_A714tvCd7w"
      }
    },
    {
      "cell_type": "code",
      "execution_count": null,
      "metadata": {
        "id": "-gkNv-Wm5zWS"
      },
      "outputs": [],
      "source": [
        "class Classifier(nn.Module):\n",
        "    \n",
        "    def __init__(self, vocab_size, embedding_dim, hidden_dim, output_dim, n_layers, \n",
        "                 bidirectional, dropout):\n",
        "        \n",
        "        super().__init__()          \n",
        "        \n",
        "        #embedding layer\n",
        "        self.embedding = nn.Embedding(vocab_size, embedding_dim)\n",
        "        \n",
        "        #lstm layer\n",
        "        self.lstm = nn.LSTM(embedding_dim, \n",
        "                           hidden_dim, \n",
        "                           num_layers=n_layers, \n",
        "                           bidirectional=bidirectional, \n",
        "                           dropout=dropout,\n",
        "                           batch_first=True)\n",
        "        \n",
        "        #dense layer\n",
        "        self.fc = nn.Linear(hidden_dim * 2, output_dim)\n",
        "        \n",
        "        #activation function\n",
        "        self.act = nn.Sigmoid()\n",
        "        \n",
        "    def forward(self, text, text_lengths):\n",
        "        \n",
        "\n",
        "        embedded = self.embedding(text)\n",
        "\n",
        "        #packed sequence\n",
        "        packed_embedded = nn.utils.rnn.pack_padded_sequence(embedded, text_lengths.cpu(), batch_first=True)\n",
        "        \n",
        "        packed_output, (hidden, cell) = self.lstm(packed_embedded)\n",
        "\n",
        "        #concat the final forward and backward hidden state\n",
        "        hidden = torch.cat((hidden[-2,:,:], hidden[-1,:,:]), dim = 1)\n",
        "\n",
        "        dense_outputs=self.fc(hidden)\n",
        "\n",
        "        #activation function\n",
        "        outputs=self.act(dense_outputs)\n",
        "        \n",
        "        return outputs"
      ]
    },
    {
      "cell_type": "markdown",
      "source": [
        "###Hyperparameters\n",
        "**number of epochs**: 120\n",
        "\n",
        "**batch size**: 32\n",
        "\n",
        "**number of hidden nodes**: 32\n",
        "\n",
        "**number of layers stacked in LSTM layer**: 3\n",
        "\n",
        "**Dropout layer on the outputs of each LSTM layer**: 0.2\n",
        "\n",
        "**bidirectional LSTM**\n",
        "\n",
        "**number of classes**: 2\n",
        "\n",
        "**learning rate**: 0.01\n",
        "\n",
        "To handle class imbalance I applied class weighting. For **class 0** it is **weight equal to 1** and for **class 1** weight is equal to **number of zeros** divided by **number of ones**."
      ],
      "metadata": {
        "id": "_kVVwYaHFIMF"
      }
    },
    {
      "cell_type": "code",
      "execution_count": null,
      "metadata": {
        "colab": {
          "base_uri": "https://localhost:8080/"
        },
        "id": "RLfRrS07vGRT",
        "outputId": "5d4143d5-02b3-45d1-8240-681c1339b50d"
      },
      "outputs": [
        {
          "output_type": "stream",
          "name": "stdout",
          "text": [
            "Epoch 1 iter 310/313 loss: 0.5558745861053467\n",
            "Test accuracy: 0.837\n",
            "Epoch 2 iter 310/313 loss: 0.6262451410293579\n",
            "Test accuracy: 0.855\n",
            "Epoch 3 iter 310/313 loss: 0.652729332447052\n",
            "Test accuracy: 0.817\n",
            "Epoch 4 iter 310/313 loss: 0.4311583340167999\n",
            "Test accuracy: 0.871\n",
            "Epoch 5 iter 310/313 loss: 0.3763653337955475\n",
            "Test accuracy: 0.784\n",
            "Epoch 6 iter 310/313 loss: 0.4030829071998596\n",
            "Test accuracy: 0.831\n",
            "Epoch 7 iter 310/313 loss: 0.33888158202171326\n",
            "Test accuracy: 0.86\n",
            "Epoch 8 iter 310/313 loss: 0.7009140849113464\n",
            "Test accuracy: 0.84\n",
            "Epoch 9 iter 310/313 loss: 0.38064777851104736\n",
            "Test accuracy: 0.839\n",
            "Epoch 10 iter 310/313 loss: 0.3468194603919983\n",
            "Test accuracy: 0.869\n",
            "Epoch 11 iter 310/313 loss: 0.6503340601921082\n",
            "Test accuracy: 0.842\n",
            "Epoch 12 iter 310/313 loss: 0.31342530250549316\n",
            "Test accuracy: 0.833\n",
            "Epoch 13 iter 310/313 loss: 0.40088027715682983\n",
            "Test accuracy: 0.822\n",
            "Epoch 14 iter 310/313 loss: 0.33324676752090454\n",
            "Test accuracy: 0.809\n",
            "Epoch 15 iter 310/313 loss: 0.3304034471511841\n",
            "Test accuracy: 0.858\n",
            "Epoch 16 iter 310/313 loss: 0.3233073055744171\n",
            "Test accuracy: 0.851\n",
            "Epoch 17 iter 310/313 loss: 0.31396758556365967\n",
            "Test accuracy: 0.817\n",
            "Epoch 18 iter 310/313 loss: 0.3132849633693695\n",
            "Test accuracy: 0.866\n",
            "Epoch 19 iter 310/313 loss: 0.34545114636421204\n",
            "Test accuracy: 0.857\n",
            "Epoch 20 iter 310/313 loss: 0.573235809803009\n",
            "Test accuracy: 0.848\n",
            "Epoch 21 iter 310/313 loss: 0.3786291778087616\n",
            "Test accuracy: 0.847\n",
            "Epoch 22 iter 310/313 loss: 0.3946448862552643\n",
            "Test accuracy: 0.784\n",
            "Epoch 23 iter 310/313 loss: 0.38100573420524597\n",
            "Test accuracy: 0.832\n",
            "Epoch 24 iter 310/313 loss: 0.33815518021583557\n",
            "Test accuracy: 0.815\n",
            "Epoch 25 iter 310/313 loss: 0.33750972151756287\n",
            "Test accuracy: 0.828\n",
            "Epoch 26 iter 310/313 loss: 0.346124529838562\n",
            "Test accuracy: 0.828\n",
            "Epoch 27 iter 310/313 loss: 0.5236341953277588\n",
            "Test accuracy: 0.773\n",
            "Epoch 28 iter 310/313 loss: 0.6209602952003479\n",
            "Test accuracy: 0.849\n",
            "Epoch 29 iter 310/313 loss: 0.35882142186164856\n",
            "Test accuracy: 0.829\n",
            "Epoch 30 iter 310/313 loss: 0.37338361144065857\n",
            "Test accuracy: 0.843\n",
            "Epoch 31 iter 310/313 loss: 0.5957780480384827\n",
            "Test accuracy: 0.842\n",
            "Epoch 32 iter 310/313 loss: 0.3611181974411011\n",
            "Test accuracy: 0.835\n",
            "Epoch 33 iter 310/313 loss: 0.3461177945137024\n",
            "Test accuracy: 0.833\n",
            "Epoch 34 iter 310/313 loss: 0.5508915185928345\n",
            "Test accuracy: 0.844\n",
            "Epoch 35 iter 310/313 loss: 0.3466056287288666\n",
            "Test accuracy: 0.814\n",
            "Epoch 36 iter 310/313 loss: 0.33217284083366394\n",
            "Test accuracy: 0.822\n",
            "Epoch 37 iter 310/313 loss: 0.3306058645248413\n",
            "Test accuracy: 0.828\n",
            "Epoch 38 iter 310/313 loss: 0.3812249004840851\n",
            "Test accuracy: 0.847\n",
            "Epoch 39 iter 310/313 loss: 0.41238129138946533\n",
            "Test accuracy: 0.829\n",
            "Epoch 40 iter 310/313 loss: 0.362132728099823\n",
            "Test accuracy: 0.84\n",
            "Epoch 41 iter 310/313 loss: 0.36238688230514526\n",
            "Test accuracy: 0.798\n",
            "Epoch 42 iter 310/313 loss: 0.3415226340293884\n",
            "Test accuracy: 0.845\n",
            "Epoch 43 iter 310/313 loss: 0.35286644101142883\n",
            "Test accuracy: 0.824\n",
            "Epoch 44 iter 310/313 loss: 0.3756970167160034\n",
            "Test accuracy: 0.787\n",
            "Epoch 45 iter 310/313 loss: 0.3612229526042938\n",
            "Test accuracy: 0.834\n",
            "Epoch 46 iter 310/313 loss: 0.39660635590553284\n",
            "Test accuracy: 0.822\n",
            "Epoch 47 iter 310/313 loss: 0.3414444327354431\n",
            "Test accuracy: 0.801\n",
            "Epoch 48 iter 310/313 loss: 0.3144819438457489\n",
            "Test accuracy: 0.829\n",
            "Epoch 49 iter 310/313 loss: 0.5345831513404846\n",
            "Test accuracy: 0.834\n",
            "Epoch 50 iter 310/313 loss: 0.3353002667427063\n",
            "Test accuracy: 0.84\n",
            "Epoch 51 iter 310/313 loss: 0.3155587315559387\n",
            "Test accuracy: 0.855\n",
            "Epoch 52 iter 310/313 loss: 0.31348371505737305\n",
            "Test accuracy: 0.851\n",
            "Epoch 53 iter 310/313 loss: 0.31326398253440857\n",
            "Test accuracy: 0.848\n",
            "Epoch 54 iter 310/313 loss: 0.31330952048301697\n",
            "Test accuracy: 0.832\n",
            "Epoch 55 iter 310/313 loss: 0.31381791830062866\n",
            "Test accuracy: 0.845\n",
            "Epoch 56 iter 310/313 loss: 0.3132915794849396\n",
            "Test accuracy: 0.811\n",
            "Epoch 57 iter 310/313 loss: 0.3596571981906891\n",
            "Test accuracy: 0.843\n",
            "Epoch 58 iter 310/313 loss: 0.36120545864105225\n",
            "Test accuracy: 0.836\n",
            "Epoch 59 iter 310/313 loss: 0.36943772435188293\n",
            "Test accuracy: 0.778\n",
            "Epoch 60 iter 310/313 loss: 0.6587234139442444\n",
            "Test accuracy: 0.823\n",
            "Epoch 61 iter 310/313 loss: 0.33949944376945496\n",
            "Test accuracy: 0.835\n",
            "Epoch 62 iter 310/313 loss: 0.36282214522361755\n",
            "Test accuracy: 0.838\n",
            "Epoch 63 iter 310/313 loss: 0.458932489156723\n",
            "Test accuracy: 0.806\n",
            "Epoch 64 iter 310/313 loss: 0.3195248246192932\n",
            "Test accuracy: 0.831\n",
            "Epoch 65 iter 310/313 loss: 0.38506466150283813\n",
            "Test accuracy: 0.814\n",
            "Epoch 66 iter 310/313 loss: 0.33017808198928833\n",
            "Test accuracy: 0.823\n",
            "Epoch 67 iter 310/313 loss: 0.3135245442390442\n",
            "Test accuracy: 0.817\n",
            "Epoch 68 iter 310/313 loss: 0.3678085207939148\n",
            "Test accuracy: 0.831\n",
            "Epoch 69 iter 310/313 loss: 0.3569684624671936\n",
            "Test accuracy: 0.794\n",
            "Epoch 70 iter 310/313 loss: 0.33351969718933105\n",
            "Test accuracy: 0.824\n",
            "Epoch 71 iter 310/313 loss: 0.3326479494571686\n",
            "Test accuracy: 0.844\n",
            "Epoch 72 iter 310/313 loss: 0.37026000022888184\n",
            "Test accuracy: 0.838\n",
            "Epoch 73 iter 310/313 loss: 0.3447745442390442\n",
            "Test accuracy: 0.829\n",
            "Epoch 74 iter 310/313 loss: 0.3461381793022156\n",
            "Test accuracy: 0.828\n",
            "Epoch 75 iter 310/313 loss: 0.3276006877422333\n",
            "Test accuracy: 0.836\n",
            "Epoch 76 iter 310/313 loss: 0.3352620005607605\n",
            "Test accuracy: 0.838\n",
            "Epoch 77 iter 310/313 loss: 0.4954495131969452\n",
            "Test accuracy: 0.83\n",
            "Epoch 78 iter 310/313 loss: 0.34135305881500244\n",
            "Test accuracy: 0.818\n",
            "Epoch 79 iter 310/313 loss: 0.31335970759391785\n",
            "Test accuracy: 0.834\n",
            "Epoch 80 iter 310/313 loss: 0.33528947830200195\n",
            "Test accuracy: 0.834\n",
            "Epoch 81 iter 310/313 loss: 0.6649825572967529\n",
            "Test accuracy: 0.856\n",
            "Epoch 82 iter 310/313 loss: 0.3475492000579834\n",
            "Test accuracy: 0.804\n",
            "Epoch 83 iter 310/313 loss: 0.3911883533000946\n",
            "Test accuracy: 0.831\n",
            "Epoch 84 iter 310/313 loss: 0.37844353914260864\n",
            "Test accuracy: 0.825\n",
            "Epoch 85 iter 310/313 loss: 0.37965700030326843\n",
            "Test accuracy: 0.807\n",
            "Epoch 86 iter 310/313 loss: 0.3298965394496918\n",
            "Test accuracy: 0.822\n",
            "Epoch 87 iter 310/313 loss: 0.3133001923561096\n",
            "Test accuracy: 0.81\n",
            "Epoch 88 iter 310/313 loss: 0.33230477571487427\n",
            "Test accuracy: 0.825\n",
            "Epoch 89 iter 310/313 loss: 0.3132856786251068\n",
            "Test accuracy: 0.815\n",
            "Epoch 90 iter 310/313 loss: 0.3477025628089905\n",
            "Test accuracy: 0.84\n",
            "Epoch 91 iter 310/313 loss: 0.3456319272518158\n",
            "Test accuracy: 0.834\n",
            "Epoch 92 iter 310/313 loss: 0.33724212646484375\n",
            "Test accuracy: 0.819\n",
            "Epoch 93 iter 310/313 loss: 0.33867213129997253\n",
            "Test accuracy: 0.832\n",
            "Epoch 94 iter 310/313 loss: 0.33326104283332825\n",
            "Test accuracy: 0.84\n",
            "Epoch 95 iter 310/313 loss: 0.3504010736942291\n",
            "Test accuracy: 0.816\n",
            "Epoch 96 iter 310/313 loss: 0.41573283076286316\n",
            "Test accuracy: 0.826\n",
            "Epoch 97 iter 310/313 loss: 0.352260023355484\n",
            "Test accuracy: 0.809\n",
            "Epoch 98 iter 310/313 loss: 0.4059004783630371\n",
            "Test accuracy: 0.841\n",
            "Epoch 99 iter 310/313 loss: 0.38847818970680237\n",
            "Test accuracy: 0.845\n",
            "Epoch 100 iter 310/313 loss: 0.35254552960395813\n",
            "Test accuracy: 0.836\n",
            "Epoch 101 iter 310/313 loss: 0.3135691285133362\n",
            "Test accuracy: 0.845\n",
            "Epoch 102 iter 310/313 loss: 0.5191201567649841\n",
            "Test accuracy: 0.822\n",
            "Epoch 103 iter 310/313 loss: 0.3132876455783844\n",
            "Test accuracy: 0.829\n",
            "Epoch 104 iter 310/313 loss: 0.35540348291397095\n",
            "Test accuracy: 0.83\n",
            "Epoch 105 iter 310/313 loss: 0.33082881569862366\n",
            "Test accuracy: 0.796\n",
            "Epoch 106 iter 310/313 loss: 0.35238200426101685\n",
            "Test accuracy: 0.827\n",
            "Epoch 107 iter 310/313 loss: 0.3526967465877533\n",
            "Test accuracy: 0.818\n",
            "Epoch 108 iter 310/313 loss: 0.5182148218154907\n",
            "Test accuracy: 0.818\n",
            "Epoch 109 iter 310/313 loss: 0.3335496187210083\n",
            "Test accuracy: 0.796\n",
            "Epoch 110 iter 310/313 loss: 0.40829479694366455\n",
            "Test accuracy: 0.82\n",
            "Epoch 111 iter 310/313 loss: 0.3523179590702057\n",
            "Test accuracy: 0.811\n",
            "Epoch 112 iter 310/313 loss: 0.3149244487285614\n",
            "Test accuracy: 0.809\n",
            "Epoch 113 iter 310/313 loss: 0.3296707570552826\n",
            "Test accuracy: 0.796\n",
            "Epoch 114 iter 310/313 loss: 0.40701261162757874\n",
            "Test accuracy: 0.832\n",
            "Epoch 115 iter 310/313 loss: 0.337968647480011\n",
            "Test accuracy: 0.841\n",
            "Epoch 116 iter 310/313 loss: 0.4952864348888397\n",
            "Test accuracy: 0.846\n",
            "Epoch 117 iter 310/313 loss: 0.31345927715301514\n",
            "Test accuracy: 0.833\n",
            "Epoch 118 iter 310/313 loss: 0.3134539723396301\n",
            "Test accuracy: 0.813\n",
            "Epoch 119 iter 310/313 loss: 0.33882373571395874\n",
            "Test accuracy: 0.823\n",
            "Epoch 120 iter 310/313 loss: 0.3379424214363098\n",
            "Test accuracy: 0.799\n"
          ]
        }
      ],
      "source": [
        "#defining hyperparameters\n",
        "n_epochs: int = 120\n",
        "vocab_size = len(TEXT.vocab)\n",
        "embed_dim = 100\n",
        "num_hidden = 32\n",
        "num_output = 2\n",
        "num_layers = 3\n",
        "bidirection = True\n",
        "dropout = 0.2\n",
        "lr: float = 0.01\n",
        "\n",
        "\n",
        "#initialize the model\n",
        "model = Classifier(vocab_size, embed_dim, num_hidden, num_output, num_layers, \n",
        "                   bidirectional = True, dropout = dropout)\n",
        "model = model.to(device)\n",
        "#optimizer\n",
        "optimizer: torch.optim.Optimizer = Adam(model.parameters(), lr=lr)\n",
        "\n",
        "#class weights\n",
        "weight = torch.tensor([num_zeros/num_zeros, num_zeros/num_ones]).float()\n",
        "criterion = nn.CrossEntropyLoss(weight=weight)\n",
        "criterion = criterion.to(device)\n",
        "\n",
        "logs = {'train_loss': [], 'test_loss': [], 'train_accuracy': [], 'test_accuracy': []}\n",
        "\n",
        "#pretrained embeddings\n",
        "pretrained_embeddings = TEXT.vocab.vectors\n",
        "model.embedding.weight.data.copy_(pretrained_embeddings)\n",
        "\n",
        "# training loop\n",
        "\n",
        "for e in range(n_epochs):\n",
        "\n",
        "    train_iter.create_batches()\n",
        "    test_iter.create_batches()\n",
        "    correct: int = 0 \n",
        "    numel: int = 0\n",
        "\n",
        "    for i, batch in enumerate(train_iter):\n",
        "\n",
        "        tag = batch.tag.long() \n",
        "        tweet, len_text = batch.tweet\n",
        "        \n",
        "        len_text = len_text.to(device) \n",
        "        y = tag.to(device) \n",
        "        x = tweet.to(device)\n",
        "\n",
        "        # reset the gradients from previous iteration\n",
        "        optimizer.zero_grad()\n",
        "\n",
        "        # pass through the network\n",
        "        output: torch.Tensor = model(x, len_text).squeeze()\n",
        "\n",
        "        # calculate loss\n",
        "        loss: torch.Tensor = criterion(output, y)\n",
        "\n",
        "        # backward pass through the network\n",
        "        loss.backward()\n",
        "\n",
        "        # apply the gradients\n",
        "        optimizer.step()\n",
        "        numel += batch_size\n",
        "\n",
        "        correct += (output.argmax(1) == y).sum().item()\n",
        "\n",
        "        # log the loss value\n",
        "        if (i + 1) % 10 == 0:\n",
        "\n",
        "            print(f\"\\rEpoch {e+1} iter {i+1}/{len(train_data) // batch_size} loss: {loss.item()}\", end=\"\")\n",
        "            \n",
        "    logs['train_loss'].append(loss.item())\n",
        "    logs['train_accuracy'].append(correct / len(train_data))\n",
        "    correct, numel = 0, 0\n",
        "\n",
        "\n",
        "    # at the end of an epoch run evaluation on the test set\n",
        "    with torch.no_grad():\n",
        "\n",
        "        for i, batch in enumerate(test_iter):\n",
        "            tag = batch.tag.long()\n",
        "            tweet, len_text = batch.tweet\n",
        "\n",
        "            len_text = len_text.to(device) \n",
        "            y = tag.to(device) \n",
        "            x = tweet.to(device)\n",
        "\n",
        "            # pass through the network\n",
        "            output: torch.Tensor = model(x, len_text)\n",
        "            correct += (output.argmax(1) == y).sum().item()\n",
        "            numel += batch_size\n",
        "\n",
        "        loss: torch.Tensor = criterion(output, y)\n",
        "\n",
        "    logs['test_loss'].append(loss.item())\n",
        "    logs['test_accuracy'].append(correct / len(test_data))\n",
        "    \n",
        "    print(f\"\\nTest accuracy: {correct / len(test_data)}\")\n",
        "    correct, numel = 0, 0\n"
      ]
    },
    {
      "cell_type": "code",
      "execution_count": null,
      "metadata": {
        "id": "5munDCGJNJdj",
        "colab": {
          "base_uri": "https://localhost:8080/",
          "height": 316
        },
        "outputId": "a753f1d9-08a3-4831-fc38-01dce215643b"
      },
      "outputs": [
        {
          "output_type": "display_data",
          "data": {
            "image/png": "[encoded data removed]",
            "text/plain": [
              "<Figure size 1152x360 with 2 Axes>"
            ]
          },
          "metadata": {
            "needs_background": "light"
          }
        }
      ],
      "source": [
        "show_results(model=logs)"
      ]
    },
    {
      "cell_type": "code",
      "source": [
        "torch.save(model.state_dict(), 'text_classifier_weights.pt')"
      ],
      "metadata": {
        "id": "REO09eNl4R9r"
      },
      "execution_count": null,
      "outputs": []
    },
    {
      "cell_type": "markdown",
      "source": [
        "#Summary"
      ],
      "metadata": {
        "id": "Z34DQQQ0IJZV"
      }
    },
    {
      "cell_type": "markdown",
      "source": [
        "The model achieved the best accuracy on the test set equal to **87.1**.\n",
        "\n",
        "What may improve performance of the model in the future, is training it on texts with decoded emojis and emotikons. They play important role in representing sentiment of a statement and can influence harmfulness of a tweet."
      ],
      "metadata": {
        "id": "JI4ZpPzbIND2"
      }
    },
    {
      "cell_type": "markdown",
      "source": [
        "#Sources\n",
        "\n",
        "http://2019.poleval.pl/index.php/tasks/task6\n",
        "\n",
        "http://dsmodels.nlp.ipipan.waw.pl/\n",
        "\n",
        "https://www.analyticsvidhya.com/blog/2020/01/first-text-classification-in-pytorch/\n",
        "\n",
        "https://developpaper.com/examples-of-text-classification-using-python-and-torch-text/\n"
      ],
      "metadata": {
        "id": "YY-gXTks2W8T"
      }
    }
  ],
  "metadata": {
    "accelerator": "GPU",
    "colab": {
      "provenance": []
    },
    "kernelspec": {
      "display_name": "Python 3",
      "name": "python3"
    },
    "language_info": {
      "name": "python"
    }
  },
  "nbformat": 4,
  "nbformat_minor": 0
}